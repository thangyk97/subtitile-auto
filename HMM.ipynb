{
 "cells": [
  {
   "cell_type": "code",
   "execution_count": 15,
   "metadata": {},
   "outputs": [],
   "source": [
    "import os\n",
    "import argparse \n",
    "from sklearn import preprocessing\n",
    "import numpy as np\n",
    "from scipy.io import wavfile \n",
    "from hmmlearn import hmm\n",
    "from python_speech_features import mfcc\n",
    "import matplotlib.pyplot as plt"
   ]
  },
  {
   "cell_type": "code",
   "execution_count": 2,
   "metadata": {},
   "outputs": [],
   "source": [
    "# Class to handle all HMM related processing\n",
    "class HMMTrainer(object):\n",
    "    def __init__(self, model_name='GaussianHMM', n_components=6, cov_type='diag', n_iter=1000):\n",
    "        self.model_name = model_name\n",
    "        self.n_components = n_components\n",
    "        self.cov_type = cov_type\n",
    "        self.n_iter = n_iter\n",
    "        self.models = []\n",
    "\n",
    "        if self.model_name == 'GaussianHMM':\n",
    "            self.model = hmm.GaussianHMM(n_components=self.n_components, \n",
    "                    covariance_type=self.cov_type, n_iter=self.n_iter)\n",
    "        else:\n",
    "            raise TypeError('Invalid model type')\n",
    "\n",
    "    # X is a 2D numpy array where each row is 13D\n",
    "    def train(self, X, len_x):\n",
    "        np.seterr(all='ignore')\n",
    "        self.models.append(self.model.fit(X, len_x))\n",
    "\n",
    "    # Run the model on input data\n",
    "    def get_score(self, input_data):\n",
    "        return self.model.score(input_data)"
   ]
  },
  {
   "cell_type": "code",
   "execution_count": null,
   "metadata": {},
   "outputs": [],
   "source": [
    "input_folder = \"/home/thangnd/git/python_workspace/data/audio/\"\n",
    "labels = []\n",
    "path_files = []\n",
    "# Parse the input directory\n",
    "for dirname in os.listdir(input_folder):\n",
    "    # Get the name of the subfolder \n",
    "    subfolder = os.path.join(input_folder, dirname)\n",
    "    if not os.path.isdir(subfolder): \n",
    "        continue\n",
    "    # Extract the label\n",
    "    label = subfolder[subfolder.rfind('/') + 1:]\n",
    "    # Iterate through the audio files (leaving 1 file for testing in each class)\n",
    "    for filename in [x for x in os.listdir(subfolder) if x.endswith('.wav')][:-1]:\n",
    "        labels.append(label)\n",
    "    "
   ]
  },
  {
   "cell_type": "code",
   "execution_count": 3,
   "metadata": {},
   "outputs": [
    {
     "name": "stderr",
     "output_type": "stream",
     "text": [
      "/home/thangnd/python_env/anaconda3/lib/python3.7/site-packages/mkl_fft/_numpy_fft.py:331: FutureWarning: Using a non-tuple sequence for multidimensional indexing is deprecated; use `arr[tuple(seq)]` instead of `arr[seq]`. In the future this will be interpreted as an array index, `arr[np.array(seq)]`, which will result either in an error or a different result.\n",
      "  output = mkl_fft.rfft_numpy(a, n=n, axis=axis)\n"
     ]
    },
    {
     "name": "stdout",
     "output_type": "stream",
     "text": [
      "X.shape = (1081, 13)\n",
      "len_x =  [73 77 74 83 74 80 73 78 81 67 85 73 86 77]\n",
      "X.shape = (795, 13)\n",
      "len_x =  [62 56 56 59 56 56 54 55 55 57 59 55 61 54]\n",
      "X.shape = (705, 13)\n",
      "len_x =  [57 55 52 45 45 54 54 50 43 57 42 48 51 52]\n",
      "X.shape = (556, 13)\n",
      "len_x =  [35 42 38 42 40 42 38 33 43 43 43 40 36 41]\n",
      "X.shape = (916, 13)\n",
      "len_x =  [66 64 61 67 67 67 64 73 63 61 62 69 63 69]\n",
      "X.shape = (598, 13)\n",
      "len_x =  [42 40 43 45 45 41 43 43 47 37 43 41 47 41]\n",
      "X.shape = (552, 13)\n",
      "len_x =  [43 38 35 43 44 37 36 41 38 43 38 42 37 37]\n"
     ]
    }
   ],
   "source": [
    "\n",
    "hmm_models = []\n",
    "\n",
    "\n",
    "# Parse the input directory\n",
    "for dirname in os.listdir(input_folder):\n",
    "    # Get the name of the subfolder \n",
    "    subfolder = os.path.join(input_folder, dirname)\n",
    "\n",
    "    if not os.path.isdir(subfolder): \n",
    "        continue\n",
    "\n",
    "    # Extract the label\n",
    "    label = subfolder[subfolder.rfind('/') + 1:]\n",
    "\n",
    "    # Initialize variables\n",
    "    X = np.array([])\n",
    "    len_x = np.array([])\n",
    "    y_words = []\n",
    "\n",
    "    # Iterate through the audio files (leaving 1 file for testing in each class)\n",
    "    for filename in [x for x in os.listdir(subfolder) if x.endswith('.wav')][:-1]:\n",
    "        labels.append(dirname)\n",
    "        # Read the input file\n",
    "        filepath = os.path.join(subfolder, filename)\n",
    "        path_files.append(filepath)\n",
    "        sampling_freq, audio = wavfile.read(filepath)\n",
    "\n",
    "        # Extract MFCC features\n",
    "        mfcc_features = mfcc(audio, sampling_freq)\n",
    "        # Append to the variable X\n",
    "        if len(X) == 0:\n",
    "            X = mfcc_features\n",
    "            len_x = mfcc_features.shape[0]\n",
    "        else:\n",
    "            X = np.append(X, mfcc_features, axis=0)\n",
    "            len_x = np.append(len_x, mfcc_features.shape[0])\n",
    "        # Append the label\n",
    "        y_words.append(label)\n",
    "\n",
    "    print ('X.shape =', X.shape)\n",
    "    print ('len_x = ', len_x)\n",
    "    # Train and save HMM model\n",
    "    hmm_trainer = HMMTrainer()\n",
    "    hmm_trainer.train(X, len_x)\n",
    "    hmm_models.append((hmm_trainer, label))\n",
    "    hmm_trainer = None"
   ]
  },
  {
   "cell_type": "code",
   "execution_count": 10,
   "metadata": {
    "scrolled": false
   },
   "outputs": [
    {
     "name": "stderr",
     "output_type": "stream",
     "text": [
      "/home/thangnd/python_env/anaconda3/lib/python3.7/site-packages/mkl_fft/_numpy_fft.py:331: FutureWarning: Using a non-tuple sequence for multidimensional indexing is deprecated; use `arr[tuple(seq)]` instead of `arr[seq]`. In the future this will be interpreted as an array index, `arr[np.array(seq)]`, which will result either in an error or a different result.\n",
      "  output = mkl_fft.rfft_numpy(a, n=n, axis=axis)\n"
     ]
    }
   ],
   "source": [
    "pred_labels = []\n",
    "# Classify input data\n",
    "for input_file in path_files:\n",
    "    # Read input file\n",
    "    sampling_freq, audio = wavfile.read(input_file)\n",
    "\n",
    "    # Extract MFCC features\n",
    "    mfcc_features = mfcc(audio, sampling_freq)\n",
    "\n",
    "    # Define variables\n",
    "    max_score = float('-inf')\n",
    "    output_label = None\n",
    "\n",
    "    # Iterate through all HMM models and pick \n",
    "    # the one with the highest score\n",
    "    for item in hmm_models:\n",
    "        hmm_model, label = item\n",
    "        score = hmm_model.get_score(mfcc_features)\n",
    "        if score > max_score:\n",
    "            max_score = score\n",
    "            output_label = label\n",
    "    pred_labels.append(output_label)"
   ]
  },
  {
   "cell_type": "code",
   "execution_count": 18,
   "metadata": {},
   "outputs": [
    {
     "data": {
      "text/plain": [
       "Text(0.5,0,'Predicted label')"
      ]
     },
     "execution_count": 18,
     "metadata": {},
     "output_type": "execute_result"
    },
    {
     "data": {
      "image/png": "[encoded data removed]",
      "text/plain": [
       "<Figure size 288x288 with 1 Axes>"
      ]
     },
     "metadata": {
      "needs_background": "light"
     },
     "output_type": "display_data"
    }
   ],
   "source": [
    "from sklearn.metrics import confusion_matrix\n",
    "cm = confusion_matrix(labels, pred_labels)\n",
    "plt.matshow(cm, cmap='gray')\n",
    "\n",
    "plt.ylabel('True label')\n",
    "plt.xlabel('Predicted label')"
   ]
  },
  {
   "cell_type": "code",
   "execution_count": null,
   "metadata": {},
   "outputs": [],
   "source": []
  }
 ],
 "metadata": {
  "kernelspec": {
   "display_name": "Python 3",
   "language": "python",
   "name": "python3"
  },
  "language_info": {
   "codemirror_mode": {
    "name": "ipython",
    "version": 3
   },
   "file_extension": ".py",
   "mimetype": "text/x-python",
   "name": "python",
   "nbconvert_exporter": "python",
   "pygments_lexer": "ipython3",
   "version": "3.7.0"
  }
 },
 "nbformat": 4,
 "nbformat_minor": 2
}
